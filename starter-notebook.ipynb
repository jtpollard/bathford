{
 "cells": [
  {
   "cell_type": "markdown",
   "metadata": {},
   "source": [
    "# Bathford Coding Club - Python in a Notebook"
   ]
  },
  {
   "cell_type": "markdown",
   "metadata": {},
   "source": [
    "This is a **JUPYTER NOTEBOOK**. It's a type of website where you can edit and run computer programs (code). \n",
    "\n",
    "You can find Python codes set out in grey boxes.\n",
    "\n",
    "Click into the grey box (called a cell) and then click Run button will run the code.\n"
   ]
  },
  {
   "cell_type": "markdown",
   "metadata": {},
   "source": [
    "## First Code Example - Change your notebook size"
   ]
  },
  {
   "cell_type": "markdown",
   "metadata": {},
   "source": [
    "Here is an example for you. \n",
    "\n",
    "The first set of Python code will change the screen to be bigger on your screen. \n",
    "\n",
    "(Don`t worry about what the code is doing for now. Just try to run it and see if it changes the screen!)"
   ]
  },
  {
   "cell_type": "code",
   "execution_count": null,
   "metadata": {},
   "outputs": [],
   "source": [
    "# -------------- Cell #1 ------------------\n",
    "# Run this cell to see your code full-width\n",
    "\n",
    "from IPython.display import display, HTML\n",
    "display(HTML(\"<style>.container { width:100% !important; }</style>\"))"
   ]
  },
  {
   "cell_type": "markdown",
   "metadata": {},
   "source": [
    "### Challenge 1 - Make your notebook size smaller"
   ]
  },
  {
   "cell_type": "markdown",
   "metadata": {},
   "source": [
    "Look at code itself now. \n",
    "\n",
    "We have set the screen width to be 100%. Can you work out which bit you need to change if you want to set screen to a different width?\n",
    "\n",
    "Maybe we prefer the notebook screen to be narrower. For example to half the size of the full screen?\n",
    "\n",
    "The next cell is a copy of the first cell. Try to set the width to 50% by changing the code yourself."
   ]
  },
  {
   "cell_type": "code",
   "execution_count": null,
   "metadata": {},
   "outputs": [],
   "source": [
    "# --------------- Cell #2 -------------------\n",
    "# Change this code so the width of the screen changes to a smaller size -> 50%\n",
    "\n",
    "from IPython.display import display, HTML\n",
    "display(HTML(\"<style>.container { width:100% !important; }</style>\"))"
   ]
  },
  {
   "cell_type": "markdown",
   "metadata": {},
   "source": [
    "Which size do you prefer? You can go back to the cell #2 and keep changing the size until you get to the one you prefer.\n",
    "\n",
    "Notice you can rerun the cell however many times you like!"
   ]
  },
  {
   "cell_type": "markdown",
   "metadata": {},
   "source": [
    "## Second Code Example - Add up some numbers together"
   ]
  },
  {
   "cell_type": "markdown",
   "metadata": {},
   "source": [
    "Let's get Python to do some simple maths!\n",
    "\n",
    "Can you do 3+2=? What do you think the number should be?"
   ]
  },
  {
   "cell_type": "code",
   "execution_count": null,
   "metadata": {},
   "outputs": [],
   "source": [
    "# --------------- Cell #3 -------------------\n",
    "# Run this to find out what is 3+2\n",
    "\n",
    "print(3 + 2)"
   ]
  },
  {
   "cell_type": "markdown",
   "metadata": {},
   "source": [
    "So you can see Python did the sum and produced an answer right under the box. \n",
    "\n",
    "Below is an exact copy of Cell # 3.\n",
    "\n",
    "Remove print - so just ask Python as you would do in a calculator. Do we still get an answer?"
   ]
  },
  {
   "cell_type": "code",
   "execution_count": null,
   "metadata": {},
   "outputs": [],
   "source": [
    "# --------------- Cell #4 -------------------\n",
    "# Run this to find out what is 3+2\n",
    "\n",
    "print(3 + 2)"
   ]
  },
  {
   "cell_type": "markdown",
   "metadata": {},
   "source": [
    "Do we end up with the same answer between Cell #3 and Cell #4? Can you spot any differences?"
   ]
  },
  {
   "cell_type": "markdown",
   "metadata": {},
   "source": [
    "Now we want to do different sums... one straight after the other.\n",
    "\n",
    "Let's do:\n",
    "\n",
    "- 3+2\n",
    "- 7+7\n",
    "- 4-3\n",
    "\n",
    "Can you write some codes in Cell #5 using the `print()` way?\n",
    "\n",
    "You can type it out or you can start by copying the codes we already had in Cell #3 then add to it!"
   ]
  },
  {
   "cell_type": "code",
   "execution_count": null,
   "metadata": {},
   "outputs": [],
   "source": [
    "# --------------- Cell #5 -------------------\n",
    "# Write codes here to do the maths 3+2, 7+7 and 4-3 one after the other.\n",
    "# Use the print() function to get the results\n",
    "\n",
    "print(3+2)\n",
    "print(7+7)\n",
    "print(4-3)"
   ]
  },
  {
   "cell_type": "markdown",
   "metadata": {},
   "source": [
    "Now we can ask Python to do the same calculations in Cell #6 but this time don't use the `print()` function - just type the maths questions straight in.\n"
   ]
  },
  {
   "cell_type": "code",
   "execution_count": null,
   "metadata": {},
   "outputs": [],
   "source": [
    "# --------------- Cell #6 --------------------\n",
    "# Write codes here to do the maths 3+2, 7+7 and 4-3 one after the other.\n",
    "# DO NOT USE print() this time\n",
    "\n",
    "3+2\n",
    "7+7\n",
    "4-3"
   ]
  },
  {
   "cell_type": "markdown",
   "metadata": {},
   "source": [
    "What's the difference? Do you get exactly the same answers from Cell #5 and Cell #6?"
   ]
  },
  {
   "cell_type": "markdown",
   "metadata": {},
   "source": [
    "<details><summary style='color:blue'>ANSWER:   CLICK HERE TO SEE THE ANSWER. BUT REALLY TRY TO ANSWER IT YOURSELF FIRST!</summary>\n",
    "\n",
    "    ###\n",
    "    By using print() results, each step is printed out in Cell #5. \n",
    "    When we don't print the result at each step, only the output for the final step will be printed out as an output.\n",
    "    ###\n",
    "    \n",
    "</details>"
   ]
  }
 ],
 "metadata": {
  "kernelspec": {
   "display_name": "Python 3 (ipykernel)",
   "language": "python",
   "name": "python3"
  },
  "language_info": {
   "codemirror_mode": {
    "name": "ipython",
    "version": 3
   },
   "file_extension": ".py",
   "mimetype": "text/x-python",
   "name": "python",
   "nbconvert_exporter": "python",
   "pygments_lexer": "ipython3",
   "version": "3.11.5"
  }
 },
 "nbformat": 4,
 "nbformat_minor": 2
}
