{
 "cells": [
  {
   "cell_type": "markdown",
   "metadata": {},
   "source": [
    "# Bathford Coding Club - Python in a Notebook"
   ]
  },
  {
   "cell_type": "markdown",
   "metadata": {},
   "source": [
    "This is a **JUPYTER NOTEBOOK**. It's a type of website where you can edit and run computer programs (code). \n",
    "\n",
    "You can find Python codes set out in grey boxes.\n",
    "\n",
    "Click into the grey box (called a cell) and then click Run button will run the code.\n"
   ]
  },
  {
   "cell_type": "markdown",
   "metadata": {},
   "source": [
    "## Simple Code Example - Add up some numbers together"
   ]
  },
  {
   "cell_type": "markdown",
   "metadata": {},
   "source": [
    "Let's get Python to do some simple maths!\n",
    "\n",
    "Can you do 3+2=? What do you think the number should be?"
   ]
  },
  {
   "cell_type": "code",
   "execution_count": null,
   "metadata": {},
   "outputs": [],
   "source": [
    "# --------------- Cell #1 -------------------\n",
    "# Run this to find out what is 3+2\n",
    "\n",
    "print(3 + 2)"
   ]
  },
  {
   "cell_type": "markdown",
   "metadata": {},
   "source": [
    "So you can see Python did the sum and produced an answer right under the box. \n",
    "\n",
    "Below is an exact copy of Cell # 1.\n",
    "\n",
    "Remove print - so just ask Python as you would do in a calculator. Do we still get an answer?"
   ]
  },
  {
   "cell_type": "code",
   "execution_count": null,
   "metadata": {},
   "outputs": [],
   "source": [
    "# --------------- Cell #2 -------------------\n",
    "# Run this to find out what is 3+2\n",
    "\n",
    "print(3 + 2)"
   ]
  },
  {
   "cell_type": "markdown",
   "metadata": {},
   "source": [
    "Do we end up with the same answer between Cell #1 and Cell #2? Can you spot any differences?"
   ]
  },
  {
   "cell_type": "markdown",
   "metadata": {},
   "source": [
    "Now we want to do different sums... one straight after the other.\n",
    "\n",
    "Let's do:\n",
    "\n",
    "- 3+2\n",
    "- 7+7\n",
    "- 4-3\n",
    "\n",
    "Can you write some codes in Cell #3 using the `print()` way?\n",
    "\n",
    "You can type it out or you can start by copying the codes we already had in Cell #1 then add to it!"
   ]
  },
  {
   "cell_type": "code",
   "execution_count": null,
   "metadata": {},
   "outputs": [],
   "source": [
    "# --------------- Cell #3 -------------------\n",
    "# Write codes here to do the maths 3+2, 7+7 and 4-3 one after the other.\n",
    "# Use the print() function to get the results\n",
    "\n",
    "print(3+2)\n",
    "print(7+7)\n",
    "print(4-3)"
   ]
  },
  {
   "cell_type": "markdown",
   "metadata": {},
   "source": [
    "Now we can ask Python to do the same calculations in Cell #6 but this time don't use the `print()` function - just type the maths questions straight in.\n"
   ]
  },
  {
   "cell_type": "code",
   "execution_count": null,
   "metadata": {},
   "outputs": [],
   "source": [
    "# --------------- Cell #4 --------------------\n",
    "# Write codes here to do the maths 3+2, 7+7 and 4-3 one after the other.\n",
    "# DO NOT USE print() this time\n",
    "\n",
    "3+2\n",
    "7+7\n",
    "4-3"
   ]
  },
  {
   "cell_type": "markdown",
   "metadata": {},
   "source": [
    "What's the difference? Do you get exactly the same answers from Cell #3 and Cell #4?"
   ]
  },
  {
   "cell_type": "markdown",
   "metadata": {},
   "source": [
    "<details><summary style='color:blue'>ANSWER:   CLICK HERE TO SEE THE ANSWER. BUT REALLY TRY TO ANSWER IT YOURSELF FIRST!</summary>\n",
    "\n",
    "    ###\n",
    "    By using print() results, each step is printed out in Cell #5. \n",
    "    When we don't print the result at each step, only the output for the final step will be printed out as an output.\n",
    "    ###\n",
    "    \n",
    "</details>"
   ]
  }
 ],
 "metadata": {
  "kernelspec": {
   "display_name": "Python 3 (ipykernel)",
   "language": "python",
   "name": "python3"
  },
  "language_info": {
   "codemirror_mode": {
    "name": "ipython",
    "version": 3
   },
   "file_extension": ".py",
   "mimetype": "text/x-python",
   "name": "python",
   "nbconvert_exporter": "python",
   "pygments_lexer": "ipython3",
   "version": "3.11.5"
  }
 },
 "nbformat": 4,
 "nbformat_minor": 2
}
